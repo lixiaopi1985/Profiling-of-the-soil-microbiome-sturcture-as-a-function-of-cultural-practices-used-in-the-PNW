{
 "cells": [
  {
   "cell_type": "markdown",
   "metadata": {},
   "source": [
    "# onsite data"
   ]
  },
  {
   "cell_type": "code",
   "execution_count": null,
   "metadata": {},
   "outputs": [],
   "source": [
    "!qiime --version\n",
    "\n",
    "# q2cli version 2019.7.0\n",
    "# Run `qiime info` for more version details.\n"
   ]
  },
  {
   "cell_type": "code",
   "execution_count": null,
   "metadata": {},
   "outputs": [],
   "source": [
    "from metaBarTools import metaBar_PreX\n",
    "import os"
   ]
  },
  {
   "cell_type": "code",
   "execution_count": null,
   "metadata": {},
   "outputs": [],
   "source": [
    "metaBar = metaBar_PreX()"
   ]
  },
  {
   "cell_type": "code",
   "execution_count": null,
   "metadata": {},
   "outputs": [],
   "source": [
    "readspath = \"/Reads_metaData/Reads_All_Projects/reads_2018/MicrocosmoSoil_2018/microcosm_onsite/onsite_samples_microcosmo_11012018\""
   ]
  },
  {
   "cell_type": "code",
   "execution_count": null,
   "metadata": {},
   "outputs": [],
   "source": [
    "if not os.path.exists(\"reads_copies_onsite\"):\n",
    "    os.makedirs(\"reads_copies_onsite\")\n",
    "    \n",
    "onsite_copies = os.path.abspath(\"reads_copies_onsite\")"
   ]
  },
  {
   "cell_type": "code",
   "execution_count": null,
   "metadata": {},
   "outputs": [],
   "source": [
    "# metaBar.metaBar_Copy(readspath, onsite_copies)"
   ]
  },
  {
   "cell_type": "code",
   "execution_count": null,
   "metadata": {},
   "outputs": [],
   "source": [
    "# path_16s, path_ITS = metaBar.metaBar_makeSubDir(\"Analysis/OnSite\", [\"16S_result\", \"ITS2_result\"])\n",
    "path_16s = \"/running_project/2019/soil_project/micocosm/Microcosm/Analysis/OnSite/16S_result\"\n",
    "\n",
    "path_ITS = \"/running_project/2019/soil_project/micocosm/Microcosm/Analysis/OnSite/ITS2_result\""
   ]
  },
  {
   "cell_type": "code",
   "execution_count": null,
   "metadata": {},
   "outputs": [],
   "source": [
    "print(path_16s, path_ITS, sep=\"\\n\")"
   ]
  },
  {
   "cell_type": "code",
   "execution_count": null,
   "metadata": {},
   "outputs": [],
   "source": []
  },
  {
   "cell_type": "markdown",
   "metadata": {},
   "source": [
    "## metadata and platesetup"
   ]
  },
  {
   "cell_type": "code",
   "execution_count": null,
   "metadata": {},
   "outputs": [],
   "source": [
    "platesetup = os.path.abspath(\"./metadata_onSite/onsite_soil_microcosmo.xlsx\")\n",
    "print(platesetup)"
   ]
  },
  {
   "cell_type": "markdown",
   "metadata": {},
   "source": [
    "### manifest file"
   ]
  },
  {
   "cell_type": "code",
   "execution_count": null,
   "metadata": {},
   "outputs": [],
   "source": [
    "manifest = metaBar.metaBar_Qiime2_Manifest(onsite_copies, platesetup, colranges=[0,8], colnames = ['Plate', 'Sample_ID', 'PCR_Conc', 'nmol_per_sample', 'Amount_of_Sample', 'Amount_of_Water', 'Well_No', 'Primer_set'], paired=True, matchby=\"index\")"
   ]
  },
  {
   "cell_type": "code",
   "execution_count": null,
   "metadata": {},
   "outputs": [],
   "source": [
    "!mkdir manifest_onSite"
   ]
  },
  {
   "cell_type": "code",
   "execution_count": null,
   "metadata": {},
   "outputs": [],
   "source": [
    "!mv 16SF@16SR_manifest.csv ITS86@ITS4_manifest.csv manifest_onSite/"
   ]
  },
  {
   "cell_type": "code",
   "execution_count": null,
   "metadata": {},
   "outputs": [],
   "source": [
    "man_16s = os.path.abspath(\"./manifest_onSite/16SF@16SR_manifest.csv\")\n",
    "man_its = os.path.abspath(\"./manifest_onSite/ITS86@ITS4_manifest.csv\")"
   ]
  },
  {
   "cell_type": "markdown",
   "metadata": {},
   "source": [
    "## 16s"
   ]
  },
  {
   "cell_type": "code",
   "execution_count": null,
   "metadata": {},
   "outputs": [],
   "source": [
    "os.chdir(path_16s)"
   ]
  },
  {
   "cell_type": "code",
   "execution_count": null,
   "metadata": {},
   "outputs": [],
   "source": [
    "os.getcwd()"
   ]
  },
  {
   "cell_type": "code",
   "execution_count": null,
   "metadata": {},
   "outputs": [],
   "source": [
    "!qiime tools import \\\n",
    "--type 'SampleData[PairedEndSequencesWithQuality]' \\\n",
    "--input-path $man_16s \\\n",
    "--output-path field_16s_seq.qza \\\n",
    "--input-format PairedEndFastqManifestPhred33"
   ]
  },
  {
   "cell_type": "code",
   "execution_count": null,
   "metadata": {},
   "outputs": [],
   "source": [
    "!qiime demux summarize \\\n",
    "--i-data field_16s_seq.qza \\\n",
    "--o-visualization field_16s_seq.qzv"
   ]
  },
  {
   "cell_type": "code",
   "execution_count": null,
   "metadata": {},
   "outputs": [],
   "source": [
    "mcm_16s_F = len(\"CCTACGGGNGGCWGCAG\")\n",
    "mcm_16S_R = len(\"GGACTACHVGGGTATCTAATCC\")"
   ]
  },
  {
   "cell_type": "code",
   "execution_count": null,
   "metadata": {},
   "outputs": [],
   "source": [
    "if not os.path.exists(\"feature-tables\"):\n",
    "    os.makedirs(\"feature-tables\")\n",
    "    \n",
    "if not os.path.exists(\"dada2_stats\"):\n",
    "    os.makedirs(\"dada2_stats\")"
   ]
  },
  {
   "cell_type": "code",
   "execution_count": null,
   "metadata": {},
   "outputs": [],
   "source": [
    "#289\n",
    "#267\n",
    "#------\n",
    "# 289\n",
    "# 247\n",
    "#-------\n",
    "#289\n",
    "#227\n",
    "!qiime dada2 denoise-paired \\\n",
    "--i-demultiplexed-seqs field_16s_seq.qza \\\n",
    "--o-table feature-tables/table_field_16s \\\n",
    "--o-representative-sequences rep_field_16s \\\n",
    "--p-trim-left-f $mcm_16s_F \\\n",
    "--p-trim-left-r $mcm_16S_R \\\n",
    "--p-trunc-len-f 289 \\\n",
    "--p-trunc-len-r 227 \\\n",
    "--o-denoising-stats dada2_stats/dada2_stats_field_16s.qza \\\n",
    "--p-n-threads 12"
   ]
  },
  {
   "cell_type": "code",
   "execution_count": null,
   "metadata": {},
   "outputs": [],
   "source": [
    "!qiime metadata tabulate \\\n",
    "--m-input-file dada2_stats/dada2_stats_field_16s.qza \\\n",
    "--o-visualization dada2_stats/stats-dada2.qzv"
   ]
  },
  {
   "cell_type": "code",
   "execution_count": null,
   "metadata": {},
   "outputs": [],
   "source": [
    "# adding meta data and cout table\n",
    "!qiime feature-table summarize \\\n",
    "--i-table feature-tables/table_field_16s.qza \\\n",
    "--o-visualization feature-tables/table_field_16s.qzv \\\n",
    "--m-sample-metadata-file ../../../metadata_onSite/metadata_onSite_16s_tab.csv"
   ]
  },
  {
   "cell_type": "markdown",
   "metadata": {},
   "source": [
    "## phylogenics (make tree)"
   ]
  },
  {
   "cell_type": "code",
   "execution_count": null,
   "metadata": {},
   "outputs": [],
   "source": [
    "!qiime tools export \\\n",
    "--input-path rep_field_16s.qza \\\n",
    "--output-path rep_field_16s_seq"
   ]
  },
  {
   "cell_type": "code",
   "execution_count": null,
   "metadata": {},
   "outputs": [],
   "source": [
    "!qiime alignment mafft \\\n",
    "--i-sequences rep_field_16s.qza \\\n",
    "--o-alignment aligned_rep_seqs.qza"
   ]
  },
  {
   "cell_type": "code",
   "execution_count": null,
   "metadata": {},
   "outputs": [],
   "source": [
    "!qiime alignment mask \\\n",
    "--i-alignment aligned_rep_seqs.qza \\\n",
    "--o-masked-alignment masked_aligned_rep_seqs.qza"
   ]
  },
  {
   "cell_type": "code",
   "execution_count": null,
   "metadata": {},
   "outputs": [],
   "source": [
    "!qiime phylogeny fasttree \\\n",
    "--i-alignment masked_aligned_rep_seqs.qza \\\n",
    "--o-tree unrooted_tree.qza"
   ]
  },
  {
   "cell_type": "code",
   "execution_count": null,
   "metadata": {},
   "outputs": [],
   "source": [
    "# root the tree\n",
    "!qiime phylogeny midpoint-root \\\n",
    "--i-tree unrooted_tree.qza \\\n",
    "--o-rooted-tree rooted_tree.qza"
   ]
  },
  {
   "cell_type": "code",
   "execution_count": null,
   "metadata": {},
   "outputs": [],
   "source": [
    "db_seq_path = \"/Database/silva_132_release_08102019/SILVA_132_QIIME_release/rep_set/rep_set_16S_only/99/silva_132_99_16S.fna\"\n",
    "tax_path = \"/Database/silva_132_release_08102019/SILVA_132_QIIME_release/taxonomy/16S_only/99/trimmed_taxonomy_7_levels.txt\""
   ]
  },
  {
   "cell_type": "code",
   "execution_count": null,
   "metadata": {},
   "outputs": [],
   "source": [
    "# use sklearn NB classifier\n",
    "if not os.path.exists(\"classifier\"):\n",
    "    os.makedirs(\"classifier\")"
   ]
  },
  {
   "cell_type": "code",
   "execution_count": null,
   "metadata": {},
   "outputs": [],
   "source": [
    "!qiime tools import \\\n",
    "--type 'FeatureData[Sequence]' \\\n",
    "--input-path $db_seq_path \\\n",
    "--output-path ./classifier/silva_132_99.qza"
   ]
  },
  {
   "cell_type": "code",
   "execution_count": null,
   "metadata": {},
   "outputs": [],
   "source": [
    "!qiime tools import \\\n",
    "--type 'FeatureData[Taxonomy]' \\\n",
    "--input-format HeaderlessTSVTaxonomyFormat \\\n",
    "--input-path $tax_path \\\n",
    "--output-path ./classifier/taxonomy_silva_132_99.qza"
   ]
  },
  {
   "cell_type": "code",
   "execution_count": null,
   "metadata": {},
   "outputs": [],
   "source": [
    "!qiime feature-classifier extract-reads \\\n",
    "--i-sequences ./classifier/silva_132_99.qza \\\n",
    "--p-f-primer CCTACGGGNGGCWGCAG \\\n",
    "--p-r-primer GGACTACHVGGGTATCTAATCC \\\n",
    "--p-min-length 100 \\\n",
    "--p-max-length 460 \\\n",
    "--o-reads ./classifier/ref_silva_132_99.qza"
   ]
  },
  {
   "cell_type": "code",
   "execution_count": null,
   "metadata": {},
   "outputs": [],
   "source": [
    "!qiime feature-classifier fit-classifier-naive-bayes \\\n",
    "--i-reference-reads ./classifier/ref_silva_132_99.qza \\\n",
    "--i-reference-taxonomy ./classifier/taxonomy_silva_132_99.qza \\\n",
    "--o-classifier ./classifier/classifier_silva_132.qza"
   ]
  },
  {
   "cell_type": "code",
   "execution_count": null,
   "metadata": {},
   "outputs": [],
   "source": [
    "if not os.path.exists(\"taxonomy\"):\n",
    "    os.makedirs(\"taxonomy\")"
   ]
  },
  {
   "cell_type": "code",
   "execution_count": null,
   "metadata": {},
   "outputs": [],
   "source": [
    "!qiime feature-classifier classify-sklearn \\\n",
    "--i-classifier ./classifier/classifier_silva_132.qza \\\n",
    "--i-reads rep_field_16s.qza \\\n",
    "--o-classification ./taxonomy/taxonomy_field_16s.qza"
   ]
  },
  {
   "cell_type": "code",
   "execution_count": null,
   "metadata": {},
   "outputs": [],
   "source": [
    "!qiime metadata tabulate \\\n",
    "--m-input-file taxonomy/taxonomy_field_16s.qza \\\n",
    "--o-visualization taxonomy/taxonomy_field_16s.qzv"
   ]
  },
  {
   "cell_type": "code",
   "execution_count": null,
   "metadata": {},
   "outputs": [],
   "source": [
    "!qiime taxa barplot \\\n",
    "--i-table feature-tables/table_field_16s.qza \\\n",
    "--i-taxonomy taxonomy/taxonomy_field_16s.qza \\\n",
    "--m-metadata-file ../../../metadata_onSite/metadata_onSite_16s_tab.csv \\\n",
    "--o-visualization taxonomy/barplot_field_16s.qzv"
   ]
  },
  {
   "cell_type": "markdown",
   "metadata": {},
   "source": [
    "## export for decontam"
   ]
  },
  {
   "cell_type": "code",
   "execution_count": null,
   "metadata": {},
   "outputs": [],
   "source": [
    "# !qiime tools export \\\n",
    "# --input-path feature-tables/table_field_16s.qza \\\n",
    "# --output-path exported"
   ]
  },
  {
   "cell_type": "code",
   "execution_count": null,
   "metadata": {},
   "outputs": [],
   "source": [
    "# !qiime tools export \\\n",
    "# --input-path taxonomy/taxonomy_field_16s.qza \\\n",
    "# --output-path exported/"
   ]
  },
  {
   "cell_type": "code",
   "execution_count": null,
   "metadata": {},
   "outputs": [],
   "source": [
    "# !cp exported/taxonomy.tsv exported/biom-taxonomy.tsv"
   ]
  },
  {
   "cell_type": "code",
   "execution_count": null,
   "metadata": {},
   "outputs": [],
   "source": [
    "# # change header\n",
    "# !sed -i '1 s/Feature ID/#OTUID/g; s/Taxon/taxonomy/g; s/Confidence/confidence/g' exported/biom-taxonomy.tsv"
   ]
  },
  {
   "cell_type": "code",
   "execution_count": null,
   "metadata": {},
   "outputs": [],
   "source": [
    "# !biom add-metadata \\\n",
    "# -i exported/feature-table.biom \\\n",
    "# -o exported/feature-table-tax.biom \\\n",
    "# --observation-metadata-fp exported/biom-taxonomy.tsv \\\n",
    "# --sample-metadata-fp ../../../metadata_onSite/metadata_onSite_16s_tab.csv \\\n",
    "# --sc-separated taxonomy"
   ]
  },
  {
   "cell_type": "code",
   "execution_count": null,
   "metadata": {},
   "outputs": [],
   "source": [
    "# !biom convert \\\n",
    "# -i exported/feature-table-tax.biom \\\n",
    "# -o exported/feature-table.tsv \\\n",
    "# --to-tsv"
   ]
  },
  {
   "cell_type": "markdown",
   "metadata": {},
   "source": [
    "> the decontam process will be done in R(decontam_mcm_16s.R)"
   ]
  },
  {
   "cell_type": "code",
   "execution_count": null,
   "metadata": {},
   "outputs": [],
   "source": [
    "# !qiime feature-table filter-features \\\n",
    "# --i-table feature-tables/table_field_16s.qza \\\n",
    "# --m-metadata-file exported/contam_by_freq.txt \\\n",
    "# --p-exclude-ids True \\\n",
    "# --o-filtered-table exported/decontam_filtered_table.qza"
   ]
  },
  {
   "cell_type": "code",
   "execution_count": null,
   "metadata": {},
   "outputs": [],
   "source": [
    "# !qiime feature-table summarize \\\n",
    "# --i-table exported/decontam_filtered_table.qza \\\n",
    "# --o-visualization exported/decontam_filtered_table.qzv \\\n",
    "# --m-sample-metadata-file ../../../metadata_onSite/metadata_onSite_16s_tab.csv"
   ]
  },
  {
   "cell_type": "code",
   "execution_count": null,
   "metadata": {},
   "outputs": [],
   "source": [
    "# !qiime taxa filter-table \\\n",
    "# --i-table exported/decontam_filtered_table.qza \\\n",
    "# --i-taxonomy taxonomy/taxonomy_field_16s.qza \\\n",
    "# --p-exclude mitochondria,chloroplast \\\n",
    "# --o-filtered-table feature-tables/nochloroplast_table.qza"
   ]
  },
  {
   "cell_type": "markdown",
   "metadata": {},
   "source": [
    "> remove controls and mitochondria and chloroplasts"
   ]
  },
  {
   "cell_type": "code",
   "execution_count": null,
   "metadata": {},
   "outputs": [],
   "source": [
    "!qiime taxa filter-table \\\n",
    "--i-table feature-tables/table_field_16s.qza \\\n",
    "--i-taxonomy taxonomy/taxonomy_field_16s.qza \\\n",
    "--p-exclude mitochondria,chloroplast \\\n",
    "--o-filtered-table feature-tables/nochloroplast_table.qza"
   ]
  },
  {
   "cell_type": "code",
   "execution_count": null,
   "metadata": {},
   "outputs": [],
   "source": [
    "!qiime feature-table filter-samples \\\n",
    "--i-table feature-tables/nochloroplast_table.qza \\\n",
    "--m-metadata-file ../../../metadata_onSite/metadata_onSite_16s_tab.csv \\\n",
    "--p-where \"sample_or_control='control'\" \\\n",
    "--p-exclude-ids \\\n",
    "--o-filtered-table feature-tables/filtered_table_nocontrols.qza"
   ]
  },
  {
   "cell_type": "code",
   "execution_count": null,
   "metadata": {},
   "outputs": [],
   "source": [
    "!qiime feature-table summarize \\\n",
    "--i-table feature-tables/filtered_table_nocontrols.qza \\\n",
    "--m-sample-metadata-file ../../../metadata_onSite/metadata_onSite_16s_tab.csv \\\n",
    "--o-visualization feature-tables/filtered_table_nocontrols.qzv"
   ]
  },
  {
   "cell_type": "markdown",
   "metadata": {},
   "source": [
    "> get control samples"
   ]
  },
  {
   "cell_type": "code",
   "execution_count": null,
   "metadata": {},
   "outputs": [],
   "source": [
    "!qiime feature-table filter-samples \\\n",
    "--i-table feature-tables/table_field_16s.qza \\\n",
    "--m-metadata-file ../../../metadata_onSite/metadata_onSite_16s_tab.csv \\\n",
    "--p-where \"sample_or_control='control'\" \\\n",
    "--o-filtered-table feature-tables/feature_table_controls.qza"
   ]
  },
  {
   "cell_type": "code",
   "execution_count": null,
   "metadata": {},
   "outputs": [],
   "source": [
    "!qiime taxa barplot \\\n",
    "--i-table feature-tables/feature_table_controls.qza \\\n",
    "--m-metadata-file ../../../metadata_onSite/metadata_onSite_16s_tab.csv \\\n",
    "--i-taxonomy taxonomy/taxonomy_field_16s.qza \\\n",
    "--o-visualization taxonomy/barplot_controls.qzv"
   ]
  },
  {
   "cell_type": "markdown",
   "metadata": {},
   "source": [
    "## export for R"
   ]
  },
  {
   "cell_type": "code",
   "execution_count": null,
   "metadata": {},
   "outputs": [],
   "source": [
    "!qiime tools export \\\n",
    "--input-path feature-tables/filtered_table_nocontrols.qza \\\n",
    "--output-path R_process/"
   ]
  },
  {
   "cell_type": "code",
   "execution_count": null,
   "metadata": {},
   "outputs": [],
   "source": [
    "!qiime tools export \\\n",
    "--input-path taxonomy/taxonomy_field_16s.qza \\\n",
    "--output-path R_process/"
   ]
  },
  {
   "cell_type": "code",
   "execution_count": null,
   "metadata": {},
   "outputs": [],
   "source": [
    "!cp R_process/taxonomy.tsv R_process/biom-taxonomy.tsv"
   ]
  },
  {
   "cell_type": "code",
   "execution_count": null,
   "metadata": {},
   "outputs": [],
   "source": [
    "# change header\n",
    "!sed -i '1 s/Feature ID/#OTUID/g; s/Taxon/taxonomy/g; s/Confidence/confidence/g' R_process/biom-taxonomy.tsv"
   ]
  },
  {
   "cell_type": "code",
   "execution_count": null,
   "metadata": {},
   "outputs": [],
   "source": [
    "!biom add-metadata \\\n",
    "-i R_process/feature-table.biom \\\n",
    "-o R_process/feature-table-tax.biom \\\n",
    "--observation-metadata-fp R_process/biom-taxonomy.tsv \\\n",
    "--sample-metadata-fp ../../../metadata_onSite/metadata_field_16s_official.v2.tsv \\\n",
    "--sc-separated taxonomy"
   ]
  },
  {
   "cell_type": "code",
   "execution_count": null,
   "metadata": {},
   "outputs": [],
   "source": [
    "!biom convert \\\n",
    "-i R_process/feature-table-tax.biom \\\n",
    "-o R_process/feature-table.tsv \\\n",
    "--to-tsv"
   ]
  },
  {
   "cell_type": "code",
   "execution_count": null,
   "metadata": {},
   "outputs": [],
   "source": [
    "!qiime tools export \\\n",
    "--input-path rooted_tree.qza \\\n",
    "--output-path R_process/"
   ]
  },
  {
   "cell_type": "markdown",
   "metadata": {},
   "source": [
    "### rarefaction curve"
   ]
  },
  {
   "cell_type": "code",
   "execution_count": null,
   "metadata": {},
   "outputs": [],
   "source": [
    "!qiime diversity alpha-rarefaction \\\n",
    "--i-table feature-tables/table_field_16s.qza \\\n",
    "--i-phylogeny rooted_tree.qza \\\n",
    "--m-metadata-file ../../../metadata_onSite/metadata_field_16s_official.v2.tsv \\\n",
    "--p-steps 100 \\\n",
    "--p-max-depth 10000 \\\n",
    "--o-visualization alpha-rarecurve_fields_16s"
   ]
  },
  {
   "cell_type": "markdown",
   "metadata": {},
   "source": [
    "-------------\n",
    "## ITS"
   ]
  },
  {
   "cell_type": "code",
   "execution_count": null,
   "metadata": {},
   "outputs": [],
   "source": [
    "os.chdir(path_ITS)"
   ]
  },
  {
   "cell_type": "code",
   "execution_count": null,
   "metadata": {},
   "outputs": [],
   "source": [
    "os.getcwd()"
   ]
  },
  {
   "cell_type": "code",
   "execution_count": null,
   "metadata": {},
   "outputs": [],
   "source": [
    "metadatapath = os.path.abspath(\"../../../metadata_onSite/metadata_field_its_official.v2.tsv\")"
   ]
  },
  {
   "cell_type": "code",
   "execution_count": null,
   "metadata": {},
   "outputs": [],
   "source": [
    "!qiime tools import \\\n",
    "--type 'SampleData[PairedEndSequencesWithQuality]' \\\n",
    "--input-path $man_its \\\n",
    "--output-path field_its_seq.qza \\\n",
    "--input-format PairedEndFastqManifestPhred33"
   ]
  },
  {
   "cell_type": "code",
   "execution_count": null,
   "metadata": {},
   "outputs": [],
   "source": [
    "!qiime demux summarize \\\n",
    "--i-data field_its_seq.qza \\\n",
    "--o-visualization field_its_seq.qzv"
   ]
  },
  {
   "cell_type": "code",
   "execution_count": null,
   "metadata": {},
   "outputs": [],
   "source": [
    "ITS_F = len(\"GTGAATCATCGAATCTTTGAA\")\n",
    "ITS_R = len(\"TCCTCCGCTTATTGATATGC\")"
   ]
  },
  {
   "cell_type": "code",
   "execution_count": null,
   "metadata": {},
   "outputs": [],
   "source": [
    "if not os.path.exists(\"feature-tables\"):\n",
    "    os.makedirs(\"feature-tables\")\n",
    "    \n",
    "if not os.path.exists(\"dada2_stats\"):\n",
    "    os.makedirs(\"dada2_stats\")"
   ]
  },
  {
   "cell_type": "code",
   "execution_count": null,
   "metadata": {},
   "outputs": [],
   "source": [
    "#299\n",
    "#223\n",
    "#--------------\n",
    "#290\n",
    "#219\n",
    "\n",
    "\n",
    "!qiime dada2 denoise-paired \\\n",
    "--i-demultiplexed-seqs field_its_seq.qza \\\n",
    "--output-dir dada2 \\\n",
    "--o-table feature-tables/table_field_its \\\n",
    "--o-representative-sequences rep_field_its \\\n",
    "--p-trim-left-f $ITS_F \\\n",
    "--p-trim-left-r $ITS_R \\\n",
    "--p-trunc-len-f 290 \\\n",
    "--p-trunc-len-r 219 \\\n",
    "--o-denoising-stats dada2_stats/dada2_stats.qza \\\n",
    "--p-n-threads 12"
   ]
  },
  {
   "cell_type": "code",
   "execution_count": null,
   "metadata": {},
   "outputs": [],
   "source": [
    "!qiime metadata tabulate \\\n",
    "--m-input-file dada2_stats/dada2_stats.qza \\\n",
    "--o-visualization dada2_stats/stats-dada2.qzv"
   ]
  },
  {
   "cell_type": "code",
   "execution_count": null,
   "metadata": {},
   "outputs": [],
   "source": [
    "# adding meta data and cout table\n",
    "!qiime feature-table summarize \\\n",
    "--i-table feature-tables/table_field_its.qza \\\n",
    "--o-visualization feature-tables/table_field_its.qzv \\\n",
    "--m-sample-metadata-file $metadatapath"
   ]
  },
  {
   "cell_type": "markdown",
   "metadata": {},
   "source": [
    "### rooted tree"
   ]
  },
  {
   "cell_type": "code",
   "execution_count": null,
   "metadata": {},
   "outputs": [],
   "source": [
    "!qiime tools export \\\n",
    "--input-path rep_field_its.qza \\\n",
    "--output-path rep_field_its_seq"
   ]
  },
  {
   "cell_type": "code",
   "execution_count": null,
   "metadata": {},
   "outputs": [],
   "source": [
    "!qiime alignment mafft \\\n",
    "--i-sequences rep_field_its.qza \\\n",
    "--o-alignment aligned_rep_seqs.qza"
   ]
  },
  {
   "cell_type": "code",
   "execution_count": null,
   "metadata": {},
   "outputs": [],
   "source": [
    "!qiime alignment mask \\\n",
    "--i-alignment aligned_rep_seqs.qza \\\n",
    "--o-masked-alignment masked_aligned_rep_seqs.qza"
   ]
  },
  {
   "cell_type": "code",
   "execution_count": null,
   "metadata": {},
   "outputs": [],
   "source": [
    "!qiime phylogeny fasttree \\\n",
    "--i-alignment masked_aligned_rep_seqs.qza \\\n",
    "--o-tree unrooted_tree.qza"
   ]
  },
  {
   "cell_type": "code",
   "execution_count": null,
   "metadata": {},
   "outputs": [],
   "source": [
    "# root the tree\n",
    "!qiime phylogeny midpoint-root \\\n",
    "--i-tree unrooted_tree.qza \\\n",
    "--o-rooted-tree rooted_tree.qza"
   ]
  },
  {
   "cell_type": "markdown",
   "metadata": {},
   "source": [
    "# taxonomy"
   ]
  },
  {
   "cell_type": "code",
   "execution_count": null,
   "metadata": {},
   "outputs": [],
   "source": [
    "db_seq_dyam_path = r\"/Database/UNITE_INSD_ITS/UNITE_release/UNITE_UPDATE_2018-11-18/version1/sh_refs_qiime_ver8_dynamic_02.02.2019.fasta\"\n",
    "db_tax_dyam_path = r\"/Database/UNITE_INSD_ITS/UNITE_release/UNITE_UPDATE_2018-11-18/version1/sh_taxonomy_qiime_ver8_dynamic_02.02.2019.txt\""
   ]
  },
  {
   "cell_type": "code",
   "execution_count": null,
   "metadata": {},
   "outputs": [],
   "source": [
    "db_seq_99 = r\"/Database/UNITE_INSD_ITS/UNITE_release/UNITE_UPDATE_2018-11-18/version2/sh_refs_qiime_ver8_99_s_02.02.2019.fasta\"\n",
    "db_tax_99 = r\"/Database/UNITE_INSD_ITS/UNITE_release/UNITE_UPDATE_2018-11-18/version2/sh_taxonomy_qiime_ver8_99_s_02.02.2019.txt\""
   ]
  },
  {
   "cell_type": "code",
   "execution_count": null,
   "metadata": {},
   "outputs": [],
   "source": [
    "if not os.path.exists(\"classifier\"):\n",
    "    os.makedirs(\"classifier\")"
   ]
  },
  {
   "cell_type": "code",
   "execution_count": null,
   "metadata": {},
   "outputs": [],
   "source": [
    "if not os.path.exists(\"taxonomy\"):\n",
    "    os.makedirs(\"taxonomy\")"
   ]
  },
  {
   "cell_type": "markdown",
   "metadata": {},
   "source": [
    "---"
   ]
  },
  {
   "cell_type": "code",
   "execution_count": null,
   "metadata": {},
   "outputs": [],
   "source": [
    "!qiime tools import \\\n",
    "--type \"FeatureData[Sequence]\" \\\n",
    "--input-path $db_seq_dyam_path \\\n",
    "--output-path ./classifier/UNITED_2018_dyam.qza"
   ]
  },
  {
   "cell_type": "code",
   "execution_count": null,
   "metadata": {},
   "outputs": [],
   "source": [
    "!qiime tools import \\\n",
    "--type 'FeatureData[Taxonomy]' \\\n",
    "--input-format HeaderlessTSVTaxonomyFormat \\\n",
    "--input-path $db_tax_dyam_path \\\n",
    "--output-path ./classifier/UNITED_TAX_2018_dyam.qza"
   ]
  },
  {
   "cell_type": "code",
   "execution_count": null,
   "metadata": {},
   "outputs": [],
   "source": [
    "!qiime feature-classifier fit-classifier-naive-bayes \\\n",
    "--i-reference-reads ./classifier/UNITED_2018_dyam.qza \\\n",
    "--i-reference-taxonomy ./classifier/UNITED_TAX_2018_dyam.qza \\\n",
    "--o-classifier ./classifier/classifier_UNITE_2018_dyam.qza"
   ]
  },
  {
   "cell_type": "code",
   "execution_count": null,
   "metadata": {},
   "outputs": [],
   "source": [
    "!qiime feature-classifier classify-sklearn \\\n",
    "--i-reads rep_field_its.qza \\\n",
    "--i-classifier ./classifier/classifier_UNITE_2018_dyam.qza \\\n",
    "--o-classification ./taxonomy/taxonomy_field_its_dym.qza"
   ]
  },
  {
   "cell_type": "code",
   "execution_count": null,
   "metadata": {},
   "outputs": [],
   "source": [
    "!qiime metadata tabulate \\\n",
    "--m-input-file ./taxonomy/taxonomy_field_its.qza \\\n",
    "--o-visualization ./taxonomy/taxonomy_field_its_dym.qzv"
   ]
  },
  {
   "cell_type": "code",
   "execution_count": null,
   "metadata": {},
   "outputs": [],
   "source": [
    "!qiime taxa barplot \\\n",
    "--i-table feature-tables/table_field_its.qza \\\n",
    "--i-taxonomy ./taxonomy/taxonomy_field_its_dym.qza \\\n",
    "--m-metadata-file $metadatapath \\\n",
    "--o-visualization ./taxonomy/barplot_tax_field_its_dym.qzv"
   ]
  },
  {
   "cell_type": "markdown",
   "metadata": {},
   "source": [
    "---\n",
    "99 cluster"
   ]
  },
  {
   "cell_type": "code",
   "execution_count": null,
   "metadata": {},
   "outputs": [],
   "source": [
    "!qiime tools import \\\n",
    "--type \"FeatureData[Sequence]\" \\\n",
    "--input-path $db_seq_99 \\\n",
    "--output-path ./classifier/UNITED_2020_99.qza"
   ]
  },
  {
   "cell_type": "code",
   "execution_count": null,
   "metadata": {},
   "outputs": [],
   "source": [
    "!qiime tools import \\\n",
    "--type 'FeatureData[Taxonomy]' \\\n",
    "--input-format HeaderlessTSVTaxonomyFormat \\\n",
    "--input-path $db_tax_99 \\\n",
    "--output-path ./classifier/UNITED_2020_99_tax.qza"
   ]
  },
  {
   "cell_type": "code",
   "execution_count": null,
   "metadata": {},
   "outputs": [],
   "source": [
    "!qiime feature-classifier fit-classifier-naive-bayes \\\n",
    "--i-reference-reads ./classifier/UNITED_2020_99.qza \\\n",
    "--i-reference-taxonomy ./classifier/UNITED_2020_99_tax.qza \\\n",
    "--o-classifier ./classifier/classifier_UNITE_2020_99.qza"
   ]
  },
  {
   "cell_type": "code",
   "execution_count": null,
   "metadata": {},
   "outputs": [],
   "source": [
    "!qiime feature-classifier classify-sklearn \\\n",
    "--i-reads rep_field_its.qza \\\n",
    "--i-classifier ./classifier/classifier_UNITE_2020_99.qza \\\n",
    "--o-classification ./taxonomy/taxonomy_field_unite202099.qza"
   ]
  },
  {
   "cell_type": "code",
   "execution_count": null,
   "metadata": {},
   "outputs": [],
   "source": [
    "!qiime metadata tabulate \\\n",
    "--m-input-file ./taxonomy/taxonomy_field_unite202099.qza \\\n",
    "--o-visualization ./taxonomy/taxonomy_field_unite202099.qzv"
   ]
  },
  {
   "cell_type": "code",
   "execution_count": null,
   "metadata": {},
   "outputs": [],
   "source": [
    "!qiime taxa barplot \\\n",
    "--i-table feature-tables/table_field_its.qza \\\n",
    "--i-taxonomy ./taxonomy/taxonomy_field_unite202099.qza \\\n",
    "--m-metadata-file $metadatapath \\\n",
    "--o-visualization ./taxonomy/barplot_tax_field_unite202099.qzv"
   ]
  },
  {
   "cell_type": "markdown",
   "metadata": {},
   "source": [
    "### export for decontam"
   ]
  },
  {
   "cell_type": "code",
   "execution_count": null,
   "metadata": {},
   "outputs": [],
   "source": [
    "# !qiime tools export \\\n",
    "# --input-path feature-tables/table_field_its.qza \\\n",
    "# --output-path exported\n",
    "\n",
    "# !qiime tools export \\\n",
    "# --input-path taxonomy/taxonomy_field_unite202099.qza \\\n",
    "# --output-path exported/"
   ]
  },
  {
   "cell_type": "code",
   "execution_count": null,
   "metadata": {},
   "outputs": [],
   "source": [
    "# !cp exported/taxonomy.tsv exported/biom-taxonomy.tsv"
   ]
  },
  {
   "cell_type": "code",
   "execution_count": null,
   "metadata": {},
   "outputs": [],
   "source": [
    "# # change header\n",
    "# !sed -i '1 s/Feature ID/#OTUID/g; s/Taxon/taxonomy/g; s/Confidence/confidence/g' exported/biom-taxonomy.tsv\n",
    "\n",
    "# !biom add-metadata \\\n",
    "# -i exported/feature-table.biom \\\n",
    "# -o exported/feature-table-tax.biom \\\n",
    "# --observation-metadata-fp exported/biom-taxonomy.tsv \\\n",
    "# --sample-metadata-fp $metadatapath \\\n",
    "# --sc-separated taxonomy\n",
    "\n",
    "# !biom convert \\\n",
    "# -i exported/feature-table-tax.biom \\\n",
    "# -o exported/feature-table.tsv \\\n",
    "# --to-tsv"
   ]
  },
  {
   "cell_type": "markdown",
   "metadata": {},
   "source": [
    "> the decontam process will be done in R(decontam_mcm_its.R)"
   ]
  },
  {
   "cell_type": "code",
   "execution_count": null,
   "metadata": {},
   "outputs": [],
   "source": [
    "# !qiime feature-table filter-features \\\n",
    "# --i-table feature-tables/table_field_its.qza \\\n",
    "# --m-metadata-file exported/contam_by_freq.txt \\\n",
    "# --p-exclude-ids True \\\n",
    "# --o-filtered-table exported/decontam_filtered_table.qza"
   ]
  },
  {
   "cell_type": "code",
   "execution_count": null,
   "metadata": {},
   "outputs": [],
   "source": [
    "# !qiime feature-table summarize \\\n",
    "# --i-table exported/decontam_filtered_table.qza \\\n",
    "# --o-visualization exported/decontam_filtered_table.qzv \\\n",
    "# --m-sample-metadata-file $metadatapatha"
   ]
  },
  {
   "cell_type": "markdown",
   "metadata": {},
   "source": [
    "> remove controls"
   ]
  },
  {
   "cell_type": "code",
   "execution_count": null,
   "metadata": {},
   "outputs": [],
   "source": [
    "!qiime feature-table filter-samples \\\n",
    "--i-table feature-tables/table_field_its.qza \\\n",
    "--m-metadata-file $metadatapath \\\n",
    "--p-where \"sample_or_control='control'\" \\\n",
    "--p-exclude-ids \\\n",
    "--o-filtered-table feature-tables/filtered_table_nocontrols.qza"
   ]
  },
  {
   "cell_type": "code",
   "execution_count": null,
   "metadata": {},
   "outputs": [],
   "source": [
    "!qiime feature-table summarize \\\n",
    "--i-table feature-tables/filtered_table_nocontrols.qza \\\n",
    "--m-sample-metadata-file $metadatapath \\\n",
    "--o-visualization feature-tables/filtered_table_nocontrols.qzv"
   ]
  },
  {
   "cell_type": "markdown",
   "metadata": {},
   "source": [
    "> get control samples"
   ]
  },
  {
   "cell_type": "code",
   "execution_count": null,
   "metadata": {},
   "outputs": [],
   "source": [
    "!qiime feature-table filter-samples \\\n",
    "--i-table feature-tables/table_field_its.qza \\\n",
    "--m-metadata-file $metadatapath \\\n",
    "--p-where \"sample_or_control='control'\" \\\n",
    "--o-filtered-table feature-tables/feature_table_controls.qza"
   ]
  },
  {
   "cell_type": "code",
   "execution_count": null,
   "metadata": {},
   "outputs": [],
   "source": [
    "!qiime taxa barplot \\\n",
    "--i-table feature-tables/feature_table_controls.qza \\\n",
    "--m-metadata-file $metadatapath \\\n",
    "--i-taxonomy taxonomy/taxonomy_field_unite202099.qza \\\n",
    "--o-visualization taxonomy/barplot_controls.qzv"
   ]
  },
  {
   "cell_type": "markdown",
   "metadata": {},
   "source": [
    "## export for R"
   ]
  },
  {
   "cell_type": "code",
   "execution_count": null,
   "metadata": {},
   "outputs": [],
   "source": [
    "!qiime tools export \\\n",
    "--input-path feature-tables/filtered_table_nocontrols.qza \\\n",
    "--output-path R_process/"
   ]
  },
  {
   "cell_type": "code",
   "execution_count": null,
   "metadata": {},
   "outputs": [],
   "source": [
    "!qiime tools export \\\n",
    "--input-path taxonomy/taxonomy_field_unite202099.qza \\\n",
    "--output-path R_process/"
   ]
  },
  {
   "cell_type": "code",
   "execution_count": null,
   "metadata": {},
   "outputs": [],
   "source": [
    "!cp R_process/taxonomy.tsv R_process/biom-taxonomy.tsv"
   ]
  },
  {
   "cell_type": "code",
   "execution_count": null,
   "metadata": {},
   "outputs": [],
   "source": [
    "# change header\n",
    "!sed -i '1 s/Feature ID/#OTUID/g; s/Taxon/taxonomy/g; s/Confidence/confidence/g' R_process/biom-taxonomy.tsv"
   ]
  },
  {
   "cell_type": "code",
   "execution_count": null,
   "metadata": {},
   "outputs": [],
   "source": [
    "!biom add-metadata \\\n",
    "-i R_process/feature-table.biom \\\n",
    "-o R_process/feature-table-tax.biom \\\n",
    "--observation-metadata-fp R_process/biom-taxonomy.tsv \\\n",
    "--sample-metadata-fp ../../../metadata_onSite/metadata_field_its_official.v2.tsv \\\n",
    "--sc-separated taxonomy"
   ]
  },
  {
   "cell_type": "code",
   "execution_count": null,
   "metadata": {},
   "outputs": [],
   "source": [
    "!biom convert \\\n",
    "-i R_process/feature-table-tax.biom \\\n",
    "-o R_process/feature-table.tsv \\\n",
    "--to-tsv"
   ]
  },
  {
   "cell_type": "code",
   "execution_count": null,
   "metadata": {},
   "outputs": [],
   "source": [
    "!qiime tools export \\\n",
    "--input-path rooted_tree.qza \\\n",
    "--output-path R_process/"
   ]
  },
  {
   "cell_type": "markdown",
   "metadata": {},
   "source": [
    "### rarefaction curves"
   ]
  },
  {
   "cell_type": "code",
   "execution_count": null,
   "metadata": {},
   "outputs": [],
   "source": [
    "!qiime diversity alpha-rarefaction \\\n",
    "--i-table feature-tables/table_field_its.qza \\\n",
    "--i-phylogeny rooted_tree.qza \\\n",
    "--m-metadata-file $metadatapath \\\n",
    "--p-steps 100 \\\n",
    "--p-max-depth 10000 \\\n",
    "--o-visualization alpha-rarecurve"
   ]
  },
  {
   "cell_type": "code",
   "execution_count": null,
   "metadata": {},
   "outputs": [],
   "source": []
  }
 ],
 "metadata": {
  "kernelspec": {
   "display_name": "Python 3",
   "language": "python",
   "name": "python3"
  },
  "language_info": {
   "codemirror_mode": {
    "name": "ipython",
    "version": 3
   },
   "file_extension": ".py",
   "mimetype": "text/x-python",
   "name": "python",
   "nbconvert_exporter": "python",
   "pygments_lexer": "ipython3",
   "version": "3.7.3"
  }
 },
 "nbformat": 4,
 "nbformat_minor": 2
}