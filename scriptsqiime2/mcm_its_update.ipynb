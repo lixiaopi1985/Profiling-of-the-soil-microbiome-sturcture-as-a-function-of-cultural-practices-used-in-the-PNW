{
 "cells": [
  {
   "cell_type": "code",
   "execution_count": 1,
   "metadata": {},
   "outputs": [
    {
     "name": "stdout",
     "output_type": "stream",
     "text": [
      "q2cli version 2019.7.0\r\n",
      "Run `qiime info` for more version details.\r\n"
     ]
    }
   ],
   "source": [
    "!qiime --version\n",
    "\n",
    "# 2019 7"
   ]
  },
  {
   "cell_type": "code",
   "execution_count": 1,
   "metadata": {},
   "outputs": [],
   "source": [
    "from metaBarTools import metaBar_PreX\n",
    "import os"
   ]
  },
  {
   "cell_type": "code",
   "execution_count": 3,
   "metadata": {},
   "outputs": [],
   "source": [
    "metaBar = metaBar_PreX()"
   ]
  },
  {
   "cell_type": "markdown",
   "metadata": {},
   "source": [
    "> manifest for ITS was generated when working on 16s\n",
    "\n",
    "> ITS working path was generated when working on ITS"
   ]
  },
  {
   "cell_type": "code",
   "execution_count": 2,
   "metadata": {},
   "outputs": [],
   "source": [
    "path_ITS = \"/media/swaggyp1985/HDD4T/OSU_Projects_2017-2018/running_project/2019/soil_project/micocosm/Microcosm/Analysis/updated_mcm/ITS2_result\""
   ]
  },
  {
   "cell_type": "code",
   "execution_count": 5,
   "metadata": {},
   "outputs": [],
   "source": [
    "man_its = os.path.abspath(\"./manifest_mcm/ITS86@ITS4_manifest.csv\")"
   ]
  },
  {
   "cell_type": "code",
   "execution_count": 3,
   "metadata": {},
   "outputs": [],
   "source": [
    "metadatapath = os.path.abspath(\"./metadata/metadata_mcm_its_official.v2.tsv\")"
   ]
  },
  {
   "cell_type": "markdown",
   "metadata": {},
   "source": [
    "dive into analysis"
   ]
  },
  {
   "cell_type": "code",
   "execution_count": 4,
   "metadata": {},
   "outputs": [
    {
     "data": {
      "text/plain": [
       "'/media/swaggyp1985/HDD4T/OSU_Projects_2017-2018/running_project/2019/soil_project/micocosm/Microcosm/Analysis/updated_mcm/ITS2_result'"
      ]
     },
     "execution_count": 4,
     "metadata": {},
     "output_type": "execute_result"
    }
   ],
   "source": [
    "os.chdir(path_ITS)\n",
    "os.getcwd()"
   ]
  },
  {
   "cell_type": "code",
   "execution_count": 8,
   "metadata": {},
   "outputs": [
    {
     "name": "stdout",
     "output_type": "stream",
     "text": [
      "\u001b[32mImported /media/swaggyp1985/HDD4T/OSU_Projects_2017-2018/running_project/2019/soil_project/micocosm/Microcosm/manifest_mcm/ITS86@ITS4_manifest.csv as PairedEndFastqManifestPhred33 to mcm_its_seq.qza\u001b[0m\r\n"
     ]
    }
   ],
   "source": [
    "!qiime tools import \\\n",
    "--type 'SampleData[PairedEndSequencesWithQuality]' \\\n",
    "--input-path $man_its \\\n",
    "--output-path mcm_its_seq.qza \\\n",
    "--input-format PairedEndFastqManifestPhred33"
   ]
  },
  {
   "cell_type": "code",
   "execution_count": 9,
   "metadata": {},
   "outputs": [
    {
     "name": "stdout",
     "output_type": "stream",
     "text": [
      "\u001b[32mSaved Visualization to: mcm_its_seq.qzv\u001b[0m\r\n"
     ]
    }
   ],
   "source": [
    "!qiime demux summarize \\\n",
    "--i-data mcm_its_seq.qza \\\n",
    "--o-visualization mcm_its_seq.qzv"
   ]
  },
  {
   "cell_type": "code",
   "execution_count": 11,
   "metadata": {},
   "outputs": [],
   "source": [
    "mcm_ITS_F = len(\"GTGAATCATCGAATCTTTGAA\")\n",
    "mcm_ITS_R = len(\"TCCTCCGCTTATTGATATGC\")"
   ]
  },
  {
   "cell_type": "code",
   "execution_count": 10,
   "metadata": {},
   "outputs": [],
   "source": [
    "if not os.path.exists(\"dada2_stats\"):\n",
    "    os.makedirs(\"dada2_stats\")\n",
    "if not os.path.exists(\"feature-tables\"):\n",
    "    os.makedirs(\"feature-tables\")"
   ]
  },
  {
   "cell_type": "code",
   "execution_count": 12,
   "metadata": {},
   "outputs": [
    {
     "name": "stdout",
     "output_type": "stream",
     "text": [
      "\u001b[32mSaved FeatureTable[Frequency] to: feature-tables/table_mcm_its.qza\u001b[0m\n",
      "\u001b[32mSaved FeatureData[Sequence] to: rep_mcm_its.qza\u001b[0m\n",
      "\u001b[32mSaved SampleData[DADA2Stats] to: dada2_stats/dada2_stats_mcm_its.qza\u001b[0m\n"
     ]
    }
   ],
   "source": [
    "#292\n",
    "#227\n",
    "#------\n",
    "# 288\n",
    "# 222\n",
    "!qiime dada2 denoise-paired \\\n",
    "--i-demultiplexed-seqs mcm_its_seq.qza \\\n",
    "--output-dir dada2 \\\n",
    "--o-table feature-tables/table_mcm_its \\\n",
    "--o-representative-sequences rep_mcm_its \\\n",
    "--p-trim-left-f $mcm_ITS_F \\\n",
    "--p-trim-left-r $mcm_ITS_R \\\n",
    "--p-trunc-len-f 288 \\\n",
    "--p-trunc-len-r 222 \\\n",
    "--o-denoising-stats dada2_stats/dada2_stats_mcm_its.qza \\\n",
    "--p-n-threads 12"
   ]
  },
  {
   "cell_type": "code",
   "execution_count": 13,
   "metadata": {},
   "outputs": [
    {
     "name": "stdout",
     "output_type": "stream",
     "text": [
      "\u001b[32mSaved Visualization to: dada2_stats/stats-dada2.qzv\u001b[0m\r\n"
     ]
    }
   ],
   "source": [
    "!qiime metadata tabulate \\\n",
    "--m-input-file dada2_stats/dada2_stats_mcm_its.qza \\\n",
    "--o-visualization dada2_stats/stats-dada2.qzv"
   ]
  },
  {
   "cell_type": "code",
   "execution_count": null,
   "metadata": {},
   "outputs": [],
   "source": [
    "# adding meta data and cout table\n",
    "!qiime feature-table summarize \\\n",
    "--i-table feature-tables/table_mcm_its.qza \\\n",
    "--o-visualization feature-tables/table_mcm_its.qzv \\\n",
    "--m-sample-metadata-file $metadatapath"
   ]
  },
  {
   "cell_type": "markdown",
   "metadata": {},
   "source": [
    "## make trees"
   ]
  },
  {
   "cell_type": "code",
   "execution_count": 7,
   "metadata": {},
   "outputs": [
    {
     "name": "stdout",
     "output_type": "stream",
     "text": [
      "\u001b[32mExported rep_mcm_its.qza as DNASequencesDirectoryFormat to directory rep_mcm_its_seq\u001b[0m\r\n"
     ]
    }
   ],
   "source": [
    "!qiime tools export \\\n",
    "--input-path rep_mcm_its.qza \\\n",
    "--output-path rep_mcm_its_seq"
   ]
  },
  {
   "cell_type": "code",
   "execution_count": 14,
   "metadata": {},
   "outputs": [
    {
     "name": "stdout",
     "output_type": "stream",
     "text": [
      "\u001b[32mSaved FeatureData[AlignedSequence] to: aligned_rep_seqs.qza\u001b[0m\r\n"
     ]
    }
   ],
   "source": [
    "!qiime alignment mafft \\\n",
    "--i-sequences rep_mcm_its.qza \\\n",
    "--o-alignment aligned_rep_seqs.qza"
   ]
  },
  {
   "cell_type": "code",
   "execution_count": 15,
   "metadata": {},
   "outputs": [
    {
     "name": "stdout",
     "output_type": "stream",
     "text": [
      "\u001b[32mSaved FeatureData[AlignedSequence] to: masked_aligned_rep_seqs.qza\u001b[0m\r\n"
     ]
    }
   ],
   "source": [
    "!qiime alignment mask \\\n",
    "--i-alignment aligned_rep_seqs.qza \\\n",
    "--o-masked-alignment masked_aligned_rep_seqs.qza"
   ]
  },
  {
   "cell_type": "code",
   "execution_count": 16,
   "metadata": {},
   "outputs": [
    {
     "name": "stdout",
     "output_type": "stream",
     "text": [
      "\u001b[32mSaved Phylogeny[Unrooted] to: unrooted_tree.qza\u001b[0m\r\n"
     ]
    }
   ],
   "source": [
    "!qiime phylogeny fasttree \\\n",
    "--i-alignment masked_aligned_rep_seqs.qza \\\n",
    "--o-tree unrooted_tree.qza"
   ]
  },
  {
   "cell_type": "code",
   "execution_count": 17,
   "metadata": {},
   "outputs": [
    {
     "name": "stdout",
     "output_type": "stream",
     "text": [
      "\u001b[32mSaved Phylogeny[Rooted] to: rooted_tree.qza\u001b[0m\r\n"
     ]
    }
   ],
   "source": [
    "# root the tree\n",
    "!qiime phylogeny midpoint-root \\\n",
    "--i-tree unrooted_tree.qza \\\n",
    "--o-rooted-tree rooted_tree.qza"
   ]
  },
  {
   "cell_type": "markdown",
   "metadata": {},
   "source": [
    "## Taxonomy"
   ]
  },
  {
   "cell_type": "code",
   "execution_count": null,
   "metadata": {},
   "outputs": [],
   "source": [
    "db_seq_99_path = r\"/media/swaggyp1985/HDD4T/OSU_Projects_2017-2018/Reads_metaData/Database/UNITE_INSD_ITS/UNITE_release/UNITE_UPDATE_2018-11-18/version2/sh_refs_qiime_ver8_99_s_02.02.2019.fasta\"\n",
    "db_tax_99_path = r\"/media/swaggyp1985/HDD4T/OSU_Projects_2017-2018/Reads_metaData/Database/UNITE_INSD_ITS/UNITE_release/UNITE_UPDATE_2018-11-18/version2/sh_taxonomy_qiime_ver8_99_s_02.02.2019.txt\""
   ]
  },
  {
   "cell_type": "code",
   "execution_count": 18,
   "metadata": {},
   "outputs": [],
   "source": [
    "if not os.path.exists(\"classifier\"):\n",
    "    os.makedirs(\"classifier\")"
   ]
  },
  {
   "cell_type": "code",
   "execution_count": null,
   "metadata": {},
   "outputs": [],
   "source": [
    "!qiime tools import \\\n",
    "--type \"FeatureData[Sequence]\" \\\n",
    "--input-path $db_seq_99_path \\\n",
    "--output-path ./classifier/UNITE_2019_99.qza"
   ]
  },
  {
   "cell_type": "code",
   "execution_count": null,
   "metadata": {},
   "outputs": [],
   "source": [
    "!qiime tools import \\\n",
    "--type 'FeatureData[Taxonomy]' \\\n",
    "--input-format HeaderlessTSVTaxonomyFormat \\\n",
    "--input-path $db_tax_99_path\\\n",
    "--output-path ./classifier/UNITE_tax_2019_99.qza"
   ]
  },
  {
   "cell_type": "code",
   "execution_count": null,
   "metadata": {},
   "outputs": [],
   "source": [
    "!qiime feature-classifier fit-classifier-naive-bayes \\\n",
    "--i-reference-reads ./classifier/UNITE_2019_99.qza \\\n",
    "--i-reference-taxonomy ./classifier/UNITE_tax_2019_99.qza \\\n",
    "--o-classifier ./classifier/classifier_UNITE_2019_99.qza"
   ]
  },
  {
   "cell_type": "code",
   "execution_count": 19,
   "metadata": {},
   "outputs": [],
   "source": [
    "if not os.path.exists(\"taxonomy\"):\n",
    "    os.makedirs(\"taxonomy\")"
   ]
  },
  {
   "cell_type": "code",
   "execution_count": 20,
   "metadata": {},
   "outputs": [
    {
     "name": "stdout",
     "output_type": "stream",
     "text": [
      "\u001b[32mSaved FeatureData[Taxonomy] to: ./taxonomy/taxonomy_mcm_its.qza\u001b[0m\r\n"
     ]
    }
   ],
   "source": [
    "!qiime feature-classifier classify-sklearn \\\n",
    "--i-reads rep_mcm_its.qza \\\n",
    "--i-classifier ./classifier/classifier_UNITE_2019_99.qza \\\n",
    "--o-classification ./taxonomy/taxonomy_mcm_its.qza"
   ]
  },
  {
   "cell_type": "code",
   "execution_count": 27,
   "metadata": {},
   "outputs": [
    {
     "name": "stdout",
     "output_type": "stream",
     "text": [
      "\u001b[32mSaved Visualization to: ./taxonomy/taxonomy_mcm_its.qzv\u001b[0m\r\n"
     ]
    }
   ],
   "source": [
    "!qiime metadata tabulate \\\n",
    "--m-input-file ./taxonomy/taxonomy_mcm_its.qza \\\n",
    "--o-visualization ./taxonomy/taxonomy_mcm_its.qzv"
   ]
  },
  {
   "cell_type": "code",
   "execution_count": 28,
   "metadata": {},
   "outputs": [
    {
     "name": "stdout",
     "output_type": "stream",
     "text": [
      "\u001b[32mSaved Visualization to: ./taxonomy/barplot_tax_mcm_its.qzv\u001b[0m\r\n"
     ]
    }
   ],
   "source": [
    "!qiime taxa barplot \\\n",
    "--i-table feature-tables/table_mcm_its.qza \\\n",
    "--i-taxonomy ./taxonomy/taxonomy_mcm_its.qza \\\n",
    "--m-metadata-file $metadatapath \\\n",
    "--o-visualization ./taxonomy/barplot_tax_mcm_its.qzv"
   ]
  },
  {
   "cell_type": "markdown",
   "metadata": {},
   "source": [
    "### export for decontam"
   ]
  },
  {
   "cell_type": "code",
   "execution_count": 21,
   "metadata": {},
   "outputs": [
    {
     "name": "stdout",
     "output_type": "stream",
     "text": [
      "\u001b[32mExported feature-tables/table_mcm_its.qza as BIOMV210DirFmt to directory exported\u001b[0m\r\n"
     ]
    }
   ],
   "source": [
    "# !qiime tools export \\\n",
    "# --input-path feature-tables/table_mcm_its.qza \\\n",
    "# --output-path exported"
   ]
  },
  {
   "cell_type": "code",
   "execution_count": 22,
   "metadata": {},
   "outputs": [
    {
     "name": "stdout",
     "output_type": "stream",
     "text": [
      "\u001b[32mExported taxonomy/taxonomy_mcm_its.qza as TSVTaxonomyDirectoryFormat to directory exported/\u001b[0m\r\n"
     ]
    }
   ],
   "source": [
    "# !qiime tools export \\\n",
    "# --input-path taxonomy/taxonomy_mcm_its.qza \\\n",
    "# --output-path exported/"
   ]
  },
  {
   "cell_type": "code",
   "execution_count": 23,
   "metadata": {},
   "outputs": [],
   "source": [
    "# !cp exported/taxonomy.tsv exported/biom-taxonomy.tsv"
   ]
  },
  {
   "cell_type": "code",
   "execution_count": 24,
   "metadata": {},
   "outputs": [],
   "source": [
    "# # change header\n",
    "# !sed -i '1 s/Feature ID/#OTUID/g; s/Taxon/taxonomy/g; s/Confidence/confidence/g' exported/biom-taxonomy.tsv"
   ]
  },
  {
   "cell_type": "code",
   "execution_count": 25,
   "metadata": {},
   "outputs": [],
   "source": [
    "# !biom add-metadata \\\n",
    "# -i exported/feature-table.biom \\\n",
    "# -o exported/feature-table-tax.biom \\\n",
    "# --observation-metadata-fp exported/biom-taxonomy.tsv \\\n",
    "# --sample-metadata-fp $metadatapath \\\n",
    "# --sc-separated taxonomy"
   ]
  },
  {
   "cell_type": "code",
   "execution_count": 26,
   "metadata": {},
   "outputs": [],
   "source": [
    "# !biom convert \\\n",
    "# -i exported/feature-table-tax.biom \\\n",
    "# -o exported/feature-table.tsv \\\n",
    "# --to-tsv"
   ]
  },
  {
   "cell_type": "markdown",
   "metadata": {},
   "source": [
    "> process by decontam_mcm_its.R # May172020 chose not to use decontam"
   ]
  },
  {
   "cell_type": "code",
   "execution_count": null,
   "metadata": {},
   "outputs": [],
   "source": [
    "# !qiime feature-table filter-features \\\n",
    "# --i-table feature-tables/table_mcm_its.qza \\\n",
    "# --m-metadata-file exported/contam_by_freq.txt \\\n",
    "# --p-exclude-ids True \\\n",
    "# --o-filtered-table exported/decontam_filtered_table.qza"
   ]
  },
  {
   "cell_type": "code",
   "execution_count": 29,
   "metadata": {},
   "outputs": [
    {
     "name": "stdout",
     "output_type": "stream",
     "text": [
      "\u001b[32mSaved FeatureTable[Frequency] to: feature-tables/filtered_table_nocontrols.qza\u001b[0m\r\n"
     ]
    }
   ],
   "source": [
    "# remove controls\n",
    "# !qiime feature-table filter-samples \\\n",
    "# --i-table exported/decontam_filtered_table.qza \\\n",
    "# --m-metadata-file $metadatapath \\\n",
    "# --p-where \"cul_type='Control'\" \\\n",
    "# --p-exclude-ids \\\n",
    "# --o-filtered-table feature-tables/filtered_table_nocontrols.qza\n",
    "\n",
    "!qiime feature-table filter-samples \\\n",
    "--i-table feature-tables/table_mcm_its.qza \\\n",
    "--m-metadata-file $metadatapath \\\n",
    "--p-where \"cul_type='Control'\" \\\n",
    "--p-exclude-ids \\\n",
    "--o-filtered-table feature-tables/filtered_table_nocontrols.qza"
   ]
  },
  {
   "cell_type": "code",
   "execution_count": 30,
   "metadata": {},
   "outputs": [
    {
     "name": "stdout",
     "output_type": "stream",
     "text": [
      "\u001b[32mSaved FeatureTable[Frequency] to: feature-tables/feature_table_controls.qza\u001b[0m\r\n"
     ]
    }
   ],
   "source": [
    "# get controls\n",
    "!qiime feature-table filter-samples \\\n",
    "--i-table feature-tables/table_mcm_its.qza \\\n",
    "--m-metadata-file $metadatapath \\\n",
    "--p-where \"cul_type='Control'\" \\\n",
    "--o-filtered-table feature-tables/feature_table_controls.qza"
   ]
  },
  {
   "cell_type": "markdown",
   "metadata": {},
   "source": [
    "## export to R analysis"
   ]
  },
  {
   "cell_type": "code",
   "execution_count": 5,
   "metadata": {},
   "outputs": [
    {
     "name": "stdout",
     "output_type": "stream",
     "text": [
      "\u001b[32mExported feature-tables/filtered_table_nocontrols.qza as BIOMV210DirFmt to directory R_process/\u001b[0m\n",
      "\u001b[32mExported taxonomy/taxonomy_mcm_its.qza as TSVTaxonomyDirectoryFormat to directory R_process/\u001b[0m\n"
     ]
    }
   ],
   "source": [
    "!qiime tools export \\\n",
    "--input-path feature-tables/filtered_table_nocontrols.qza \\\n",
    "--output-path R_process/\n",
    "\n",
    "!qiime tools export \\\n",
    "--input-path taxonomy/taxonomy_mcm_its.qza \\\n",
    "--output-path R_process/"
   ]
  },
  {
   "cell_type": "code",
   "execution_count": 6,
   "metadata": {},
   "outputs": [],
   "source": [
    "!cp R_process/taxonomy.tsv R_process/biom-taxonomy.tsv"
   ]
  },
  {
   "cell_type": "code",
   "execution_count": 7,
   "metadata": {},
   "outputs": [],
   "source": [
    "# change header\n",
    "!sed -i '1 s/Feature ID/#OTUID/g; s/Taxon/taxonomy/g; s/Confidence/confidence/g' R_process/biom-taxonomy.tsv"
   ]
  },
  {
   "cell_type": "code",
   "execution_count": 8,
   "metadata": {},
   "outputs": [],
   "source": [
    "!biom add-metadata \\\n",
    "-i R_process/feature-table.biom \\\n",
    "-o R_process/feature-table-tax.biom \\\n",
    "--observation-metadata-fp R_process/biom-taxonomy.tsv \\\n",
    "--sample-metadata-fp $metadatapath \\\n",
    "--sc-separated taxonomy"
   ]
  },
  {
   "cell_type": "code",
   "execution_count": 9,
   "metadata": {},
   "outputs": [],
   "source": [
    "!biom convert \\\n",
    "-i R_process/feature-table-tax.biom \\\n",
    "-o R_process/feature-table.tsv \\\n",
    "--to-tsv"
   ]
  },
  {
   "cell_type": "code",
   "execution_count": 36,
   "metadata": {},
   "outputs": [
    {
     "name": "stdout",
     "output_type": "stream",
     "text": [
      "\u001b[32mExported rooted_tree.qza as NewickDirectoryFormat to directory R_process/\u001b[0m\r\n"
     ]
    }
   ],
   "source": [
    "!qiime tools export \\\n",
    "--input-path rooted_tree.qza \\\n",
    "--output-path R_process/"
   ]
  },
  {
   "cell_type": "markdown",
   "metadata": {},
   "source": [
    "## alpha rarefaction curves"
   ]
  },
  {
   "cell_type": "code",
   "execution_count": 40,
   "metadata": {},
   "outputs": [
    {
     "name": "stdout",
     "output_type": "stream",
     "text": [
      "\u001b[32mSaved Visualization to: alpha-rarecurve.qzv\u001b[0m\r\n"
     ]
    }
   ],
   "source": [
    "!qiime diversity alpha-rarefaction \\\n",
    "--i-table feature-tables/table_mcm_its.qza \\\n",
    "--i-phylogeny rooted_tree.qza \\\n",
    "--m-metadata-file $metadatapath \\\n",
    "--p-steps 100 \\\n",
    "--p-max-depth 15000 \\\n",
    "--o-visualization alpha-rarecurve"
   ]
  },
  {
   "cell_type": "markdown",
   "metadata": {},
   "source": [
    "*END* move to R"
   ]
  }
 ],
 "metadata": {
  "kernelspec": {
   "display_name": "Python 3",
   "language": "python",
   "name": "python3"
  },
  "language_info": {
   "codemirror_mode": {
    "name": "ipython",
    "version": 3
   },
   "file_extension": ".py",
   "mimetype": "text/x-python",
   "name": "python",
   "nbconvert_exporter": "python",
   "pygments_lexer": "ipython3",
   "version": "3.7.3"
  }
 },
 "nbformat": 4,
 "nbformat_minor": 2
}
