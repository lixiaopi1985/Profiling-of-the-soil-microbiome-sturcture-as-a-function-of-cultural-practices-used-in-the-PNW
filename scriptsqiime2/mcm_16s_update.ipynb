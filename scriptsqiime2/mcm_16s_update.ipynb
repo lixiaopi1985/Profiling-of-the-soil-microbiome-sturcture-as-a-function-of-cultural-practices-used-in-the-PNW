{
 "cells": [
  {
   "cell_type": "markdown",
   "metadata": {},
   "source": [
    "# Microcosm analysis 16s updated"
   ]
  },
  {
   "cell_type": "code",
   "execution_count": null,
   "metadata": {},
   "outputs": [],
   "source": [
    "!qiime --version\n",
    "\n",
    "# 2019 7"
   ]
  },
  {
   "cell_type": "code",
   "execution_count": null,
   "metadata": {},
   "outputs": [],
   "source": [
    "from metaBarTools import metaBar_PreX\n",
    "import os"
   ]
  },
  {
   "cell_type": "code",
   "execution_count": null,
   "metadata": {},
   "outputs": [],
   "source": [
    "metaBar = metaBar_PreX()"
   ]
  },
  {
   "cell_type": "code",
   "execution_count": null,
   "metadata": {},
   "outputs": [],
   "source": [
    "platesetup = os.path.abspath(\"./metadata/platesetup_all.xlsx\")\n",
    "print(platesetup)"
   ]
  },
  {
   "cell_type": "code",
   "execution_count": null,
   "metadata": {},
   "outputs": [],
   "source": [
    "m_presoil = os.path.abspath(\"./rename_reads/modified_names/reads_presoil/\")\n",
    "m_post2 = os.path.abspath(\"./rename_reads/modified_names/reads_post2/\")\n",
    "m_post4 = os.path.abspath(\"./rename_reads/modified_names/reads_post4/\")\n",
    "m_post5 = os.path.abspath(\"./rename_reads/modified_names/reads_post5/\")"
   ]
  },
  {
   "cell_type": "code",
   "execution_count": null,
   "metadata": {},
   "outputs": [],
   "source": [
    "print(m_presoil, m_post2, m_post4, m_post5, sep=\"\\n\")"
   ]
  },
  {
   "cell_type": "code",
   "execution_count": null,
   "metadata": {},
   "outputs": [],
   "source": [
    "manifest = metaBar.metaBar_Qiime2_Manifest(m_presoil, m_post2, m_post4, m_post5, platesetup, colnames = ['Plate', 'Sample_ID', 'Sample_label', 'PCR_Conc', 'nmol_per_sample', 'Amount_of_Sample', 'Amount_of_Water', 'Well_No', 'Primer_set'], paired=True, matchby=\"sample\")"
   ]
  },
  {
   "cell_type": "code",
   "execution_count": null,
   "metadata": {},
   "outputs": [],
   "source": [
    "metadatapath = os.path.abspath(\"./metadata/metadata_mcm_16s_official.v2.tsv\")\n",
    "print(metadatapath)"
   ]
  },
  {
   "cell_type": "code",
   "execution_count": null,
   "metadata": {},
   "outputs": [],
   "source": [
    "# path_16s, path_ITS = metaBar.metaBar_makeSubDir(\"Analysis/updated_mcm\", [\"16S_result\", \"ITS2_result\"])\n",
    "path_16s = \"./running_project/2019/soil_project/micocosm/Microcosm/Analysis/updated_mcm/16S_result\"\n",
    "\n",
    "path_ITS = \"./running_project/2019/soil_project/micocosm/Microcosm/Analysis/updated_mcm/ITS2_result\""
   ]
  },
  {
   "cell_type": "code",
   "execution_count": null,
   "metadata": {},
   "outputs": [],
   "source": [
    "print(path_16s, path_ITS, sep=\"\\n\")"
   ]
  },
  {
   "cell_type": "code",
   "execution_count": null,
   "metadata": {},
   "outputs": [],
   "source": [
    "man_16s = os.path.abspath(\"./manifest_mcm/16SF@16SR_manifest.csv\")"
   ]
  },
  {
   "cell_type": "code",
   "execution_count": null,
   "metadata": {},
   "outputs": [],
   "source": [
    "os.chdir(path_16s)\n",
    "os.getcwd()"
   ]
  },
  {
   "cell_type": "markdown",
   "metadata": {},
   "source": [
    "### import"
   ]
  },
  {
   "cell_type": "code",
   "execution_count": null,
   "metadata": {},
   "outputs": [],
   "source": [
    "!qiime tools import \\\n",
    "--type 'SampleData[PairedEndSequencesWithQuality]' \\\n",
    "--input-path $man_16s \\\n",
    "--output-path mcm_16s_raw_seq.qza \\\n",
    "--input-format PairedEndFastqManifestPhred33"
   ]
  },
  {
   "cell_type": "code",
   "execution_count": null,
   "metadata": {},
   "outputs": [],
   "source": [
    "!qiime demux summarize \\\n",
    "--i-data mcm_16s_raw_seq.qza \\\n",
    "--o-visualization mcm_16s_raw_seq.qzv"
   ]
  },
  {
   "cell_type": "code",
   "execution_count": null,
   "metadata": {},
   "outputs": [],
   "source": [
    "mcm_16s_F = len(\"CCTACGGGNGGCWGCAG\")\n",
    "mcm_16S_R = len(\"GGACTACHVGGGTATCTAATCC\")"
   ]
  },
  {
   "cell_type": "code",
   "execution_count": null,
   "metadata": {},
   "outputs": [],
   "source": [
    "if not os.path.exists(\"feature-tables\"):\n",
    "    os.makedirs(\"feature-tables\")\n",
    "    \n",
    "if not os.path.exists(\"dada2_stats\"):\n",
    "    os.makedirs(\"dada2_stats\")"
   ]
  },
  {
   "cell_type": "code",
   "execution_count": null,
   "metadata": {},
   "outputs": [],
   "source": [
    "#298\n",
    "#258\n",
    "#------\n",
    "#289\n",
    "#257\n",
    "#------\n",
    "#289\n",
    "#247\n",
    "#-----\n",
    "#289\n",
    "#220\n",
    "!qiime dada2 denoise-paired \\\n",
    "--i-demultiplexed-seqs mcm_16s_raw_seq.qza \\\n",
    "--o-table feature-tables/table_mcm_16s \\\n",
    "--o-representative-sequences rep_mcm_16s \\\n",
    "--p-trim-left-f $mcm_16s_F \\\n",
    "--p-trim-left-r $mcm_16S_R \\\n",
    "--p-trunc-len-f 289 \\\n",
    "--p-trunc-len-r 220 \\\n",
    "--o-denoising-stats dada2_stats/dada2_stats_mcm_16s.qza \\\n",
    "--p-n-threads 12"
   ]
  },
  {
   "cell_type": "code",
   "execution_count": null,
   "metadata": {},
   "outputs": [],
   "source": [
    "!qiime metadata tabulate \\\n",
    "--m-input-file dada2_stats/dada2_stats_mcm_16s.qza \\\n",
    "--o-visualization dada2_stats/stats-dada2.qzv"
   ]
  },
  {
   "cell_type": "markdown",
   "metadata": {},
   "source": [
    "## phylogenics (make tree)"
   ]
  },
  {
   "cell_type": "code",
   "execution_count": null,
   "metadata": {},
   "outputs": [],
   "source": [
    "!qiime tools export \\\n",
    "--input-path rep_mcm_16s.qza \\\n",
    "--output-path rep_mcm_16s_seq"
   ]
  },
  {
   "cell_type": "markdown",
   "metadata": {},
   "source": [
    "**alignment mafft ecounter memory error** \n",
    "> use --p-parttree flag"
   ]
  },
  {
   "cell_type": "code",
   "execution_count": null,
   "metadata": {},
   "outputs": [],
   "source": [
    "!qiime alignment mafft \\\n",
    "--i-sequences rep_mcm_16s.qza \\\n",
    "--o-alignment aligned_rep_seqs.qza \\\n",
    "--p-parttree \\\n",
    "--p-n-threads 16"
   ]
  },
  {
   "cell_type": "code",
   "execution_count": null,
   "metadata": {},
   "outputs": [],
   "source": [
    "!qiime alignment mask \\\n",
    "--i-alignment aligned_rep_seqs.qza \\\n",
    "--o-masked-alignment masked_aligned_rep_seqs.qza"
   ]
  },
  {
   "cell_type": "code",
   "execution_count": null,
   "metadata": {},
   "outputs": [],
   "source": [
    "!qiime phylogeny fasttree \\\n",
    "--i-alignment masked_aligned_rep_seqs.qza \\\n",
    "--o-tree unrooted_tree.qza"
   ]
  },
  {
   "cell_type": "code",
   "execution_count": null,
   "metadata": {},
   "outputs": [],
   "source": [
    "# root the tree\n",
    "!qiime phylogeny midpoint-root \\\n",
    "--i-tree unrooted_tree.qza \\\n",
    "--o-rooted-tree rooted_tree.qza"
   ]
  },
  {
   "cell_type": "markdown",
   "metadata": {},
   "source": [
    "---"
   ]
  },
  {
   "cell_type": "code",
   "execution_count": null,
   "metadata": {},
   "outputs": [],
   "source": [
    "# use sklearn NB classifier\n",
    "if not os.path.exists(\"classifier\"):\n",
    "    os.makedirs(\"classifier\")"
   ]
  },
  {
   "cell_type": "code",
   "execution_count": null,
   "metadata": {},
   "outputs": [],
   "source": [
    "db_seq_path = \"/Database/silva_132_release_08102019/SILVA_132_QIIME_release/rep_set/rep_set_16S_only/99/silva_132_99_16S.fna\"\n",
    "tax_path = \"/Database/silva_132_release_08102019/SILVA_132_QIIME_release/taxonomy/16S_only/99/trimmed_taxonomy_7_levels.txt\""
   ]
  },
  {
   "cell_type": "code",
   "execution_count": null,
   "metadata": {},
   "outputs": [],
   "source": [
    "!qiime tools import \\\n",
    "--type 'FeatureData[Sequence]' \\\n",
    "--input-path $db_seq_path \\\n",
    "--output-path ./classifier/silva_132_99.qza\n",
    "\n",
    "!qiime tools import \\\n",
    "--type 'FeatureData[Taxonomy]' \\\n",
    "--input-format HeaderlessTSVTaxonomyFormat \\\n",
    "--input-path $tax_path \\\n",
    "--output-path ./classifier/taxonomy_silva_132_99.qza"
   ]
  },
  {
   "cell_type": "code",
   "execution_count": null,
   "metadata": {},
   "outputs": [],
   "source": [
    "!qiime feature-classifier extract-reads \\\n",
    "--i-sequences ./classifier/silva_132_99.qza \\\n",
    "--p-f-primer CCTACGGGNGGCWGCAG \\\n",
    "--p-r-primer GACTACHVGGGTATCTAATCC \\\n",
    "--p-min-length 100 \\\n",
    "--p-max-length 460 \\\n",
    "--o-reads ./classifier/ref_silva_132_99.qza"
   ]
  },
  {
   "cell_type": "code",
   "execution_count": null,
   "metadata": {},
   "outputs": [],
   "source": [
    "!qiime feature-classifier fit-classifier-naive-bayes \\\n",
    "--i-reference-reads ./classifier/ref_silva_132_99.qza \\\n",
    "--i-reference-taxonomy ./classifier/taxonomy_silva_132_99.qza \\\n",
    "--o-classifier ./classifier/classifier_silva_132.qza"
   ]
  },
  {
   "cell_type": "code",
   "execution_count": null,
   "metadata": {},
   "outputs": [],
   "source": [
    "if not os.path.exists(\"taxonomy\"):\n",
    "    os.makedirs(\"taxonomy\")"
   ]
  },
  {
   "cell_type": "code",
   "execution_count": null,
   "metadata": {},
   "outputs": [],
   "source": [
    "!qiime feature-classifier classify-sklearn \\\n",
    "--i-classifier ./classifier/classifier_silva_132.qza \\\n",
    "--i-reads rep_mcm_16s.qza \\\n",
    "--o-classification ./taxonomy/taxonomy_mcm_16s.qza"
   ]
  },
  {
   "cell_type": "code",
   "execution_count": null,
   "metadata": {},
   "outputs": [],
   "source": [
    "!qiime metadata tabulate \\\n",
    "--m-input-file ./taxonomy/taxonomy_mcm_16s.qza \\\n",
    "--o-visualization ./taxonomy/taxonomy_mcm_16s.qzv"
   ]
  },
  {
   "cell_type": "code",
   "execution_count": null,
   "metadata": {},
   "outputs": [],
   "source": [
    "!qiime taxa barplot \\\n",
    "--i-table feature-tables/table_mcm_16s.qza \\\n",
    "--i-taxonomy taxonomy/taxonomy_mcm_16s.qza \\\n",
    "--m-metadata-file $metadatapath \\\n",
    "--o-visualization taxonomy/barplot_mcm_16s.qzv"
   ]
  },
  {
   "cell_type": "markdown",
   "metadata": {},
   "source": [
    "### export for decontam"
   ]
  },
  {
   "cell_type": "code",
   "execution_count": null,
   "metadata": {},
   "outputs": [],
   "source": [
    "# !qiime tools export \\\n",
    "# --input-path feature-tables/table_mcm_16s.qza \\\n",
    "# --output-path exported"
   ]
  },
  {
   "cell_type": "code",
   "execution_count": null,
   "metadata": {},
   "outputs": [],
   "source": [
    "# !qiime tools export \\\n",
    "# --input-path taxonomy/taxonomy_mcm_16s.qza \\\n",
    "# --output-path exported/"
   ]
  },
  {
   "cell_type": "code",
   "execution_count": null,
   "metadata": {},
   "outputs": [],
   "source": [
    "# !cp exported/taxonomy.tsv exported/biom-taxonomy.tsv"
   ]
  },
  {
   "cell_type": "code",
   "execution_count": null,
   "metadata": {},
   "outputs": [],
   "source": [
    "# # change header\n",
    "# !sed -i '1 s/Feature ID/#OTUID/g; s/Taxon/taxonomy/g; s/Confidence/confidence/g' exported/biom-taxonomy.tsv"
   ]
  },
  {
   "cell_type": "code",
   "execution_count": null,
   "metadata": {},
   "outputs": [],
   "source": [
    "# !biom add-metadata \\\n",
    "# -i exported/feature-table.biom \\\n",
    "# -o exported/feature-table-tax.biom \\\n",
    "# --observation-metadata-fp exported/biom-taxonomy.tsv \\\n",
    "# --sample-metadata-fp $metadatapath \\\n",
    "# --sc-separated taxonomy"
   ]
  },
  {
   "cell_type": "code",
   "execution_count": null,
   "metadata": {},
   "outputs": [],
   "source": [
    "# !biom convert \\\n",
    "# -i exported/feature-table-tax.biom \\\n",
    "# -o exported/feature-table.tsv \\\n",
    "# --to-tsv"
   ]
  },
  {
   "cell_type": "markdown",
   "metadata": {},
   "source": [
    "> process with decontam_mcm_16s.R, we use frequency"
   ]
  },
  {
   "cell_type": "code",
   "execution_count": null,
   "metadata": {},
   "outputs": [],
   "source": [
    "# !qiime feature-table filter-features \\\n",
    "# --i-table feature-tables/table_mcm_16s.qza \\\n",
    "# --m-metadata-file exported/contam_by_freq.txt \\\n",
    "# --p-exclude-ids True \\\n",
    "# --o-filtered-table exported/decontam_filtered_table.qza"
   ]
  },
  {
   "cell_type": "code",
   "execution_count": null,
   "metadata": {},
   "outputs": [],
   "source": [
    "# !qiime taxa filter-table \\\n",
    "# --i-table exported/decontam_filtered_table.qza \\\n",
    "# --i-taxonomy taxonomy/taxonomy_mcm_16s.qza \\\n",
    "# --p-exclude mitochondria,chloroplast \\\n",
    "# --o-filtered-table feature-tables/nochloroplast_table.qza"
   ]
  },
  {
   "cell_type": "code",
   "execution_count": null,
   "metadata": {},
   "outputs": [],
   "source": [
    "!qiime taxa filter-table \\\n",
    "--i-table feature-tables/table_mcm_16s.qza \\\n",
    "--i-taxonomy taxonomy/taxonomy_mcm_16s.qza \\\n",
    "--p-exclude mitochondria,chloroplast \\\n",
    "--o-filtered-table feature-tables/nochloroplast_table.qza"
   ]
  },
  {
   "cell_type": "markdown",
   "metadata": {},
   "source": [
    "### separate control groups"
   ]
  },
  {
   "cell_type": "code",
   "execution_count": null,
   "metadata": {},
   "outputs": [],
   "source": [
    "# remove controls\n",
    "!qiime feature-table filter-samples \\\n",
    "--i-table feature-tables/nochloroplast_table.qza \\\n",
    "--m-metadata-file $metadatapath \\\n",
    "--p-where \"cul_type='Control'\" \\\n",
    "--p-exclude-ids \\\n",
    "--o-filtered-table feature-tables/filtered_table_nocontrols.qza"
   ]
  },
  {
   "cell_type": "code",
   "execution_count": null,
   "metadata": {},
   "outputs": [],
   "source": [
    "# get controls\n",
    "!qiime feature-table filter-samples \\\n",
    "--i-table feature-tables/table_mcm_16s.qza \\\n",
    "--m-metadata-file $metadatapath \\\n",
    "--p-where \"cul_type='Control'\" \\\n",
    "--o-filtered-table feature-tables/feature_table_controls.qza"
   ]
  },
  {
   "cell_type": "markdown",
   "metadata": {},
   "source": [
    "### export for R"
   ]
  },
  {
   "cell_type": "code",
   "execution_count": null,
   "metadata": {},
   "outputs": [],
   "source": [
    "!qiime tools export \\\n",
    "--input-path feature-tables/filtered_table_nocontrols.qza \\\n",
    "--output-path R_process/"
   ]
  },
  {
   "cell_type": "code",
   "execution_count": null,
   "metadata": {},
   "outputs": [],
   "source": [
    "!qiime tools export \\\n",
    "--input-path taxonomy/taxonomy_mcm_16s.qza \\\n",
    "--output-path R_process/"
   ]
  },
  {
   "cell_type": "code",
   "execution_count": null,
   "metadata": {},
   "outputs": [],
   "source": [
    "!cp R_process/taxonomy.tsv R_process/biom-taxonomy.tsv"
   ]
  },
  {
   "cell_type": "code",
   "execution_count": null,
   "metadata": {},
   "outputs": [],
   "source": [
    "# change header\n",
    "!sed -i '1 s/Feature ID/#OTUID/g; s/Taxon/taxonomy/g; s/Confidence/confidence/g' R_process/biom-taxonomy.tsv"
   ]
  },
  {
   "cell_type": "code",
   "execution_count": null,
   "metadata": {},
   "outputs": [],
   "source": [
    "metadatapath"
   ]
  },
  {
   "cell_type": "code",
   "execution_count": null,
   "metadata": {},
   "outputs": [],
   "source": [
    "# updated rotation infor for WA based on WSU research\n",
    "!biom add-metadata \\\n",
    "-i R_process/feature-table.biom \\\n",
    "-o R_process/feature-table-tax.biom \\\n",
    "--observation-metadata-fp R_process/biom-taxonomy.tsv \\\n",
    "--sample-metadata-fp $metadatapath \\\n",
    "--sc-separated taxonomy"
   ]
  },
  {
   "cell_type": "code",
   "execution_count": null,
   "metadata": {},
   "outputs": [],
   "source": [
    "!biom convert \\\n",
    "-i R_process/feature-table-tax.biom \\\n",
    "-o R_process/feature-table.tsv \\\n",
    "--to-tsv"
   ]
  },
  {
   "cell_type": "code",
   "execution_count": null,
   "metadata": {},
   "outputs": [],
   "source": [
    "!qiime tools export \\\n",
    "--input-path rooted_tree.qza \\\n",
    "--output-path R_process/"
   ]
  },
  {
   "cell_type": "markdown",
   "metadata": {},
   "source": [
    "### alpha rarefaction curves"
   ]
  },
  {
   "cell_type": "code",
   "execution_count": null,
   "metadata": {},
   "outputs": [],
   "source": [
    "!qiime diversity alpha-rarefaction \\\n",
    "--i-table feature-tables/table_mcm_16s.qza \\\n",
    "--i-phylogeny rooted_tree.qza \\\n",
    "--m-metadata-file $metadatapath \\\n",
    "--p-steps 100 \\\n",
    "--p-max-depth 15000 \\\n",
    "--o-visualization alpha-rarecurve"
   ]
  },
  {
   "cell_type": "code",
   "execution_count": null,
   "metadata": {},
   "outputs": [],
   "source": []
  },
  {
   "cell_type": "markdown",
   "metadata": {},
   "source": [
    "*End*: move to R for analysis"
   ]
  }
 ],
 "metadata": {
  "kernelspec": {
   "display_name": "Python 3",
   "language": "python",
   "name": "python3"
  },
  "language_info": {
   "codemirror_mode": {
    "name": "ipython",
    "version": 3
   },
   "file_extension": ".py",
   "mimetype": "text/x-python",
   "name": "python",
   "nbconvert_exporter": "python",
   "pygments_lexer": "ipython3",
   "version": "3.7.3"
  }
 },
 "nbformat": 4,
 "nbformat_minor": 2
}